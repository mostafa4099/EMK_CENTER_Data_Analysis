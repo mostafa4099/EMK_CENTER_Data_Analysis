{
  "nbformat": 4,
  "nbformat_minor": 0,
  "metadata": {
    "kernelspec": {
      "display_name": "Python 3",
      "language": "python",
      "name": "python3"
    },
    "language_info": {
      "codemirror_mode": {
        "name": "ipython",
        "version": 3
      },
      "file_extension": ".py",
      "mimetype": "text/x-python",
      "name": "python",
      "nbconvert_exporter": "python",
      "pygments_lexer": "ipython3",
      "version": "3.8.5"
    },
    "colab": {
      "name": "test_wicket_analysis.ipynb",
      "provenance": [],
      "collapsed_sections": [],
      "include_colab_link": true
    }
  },
  "cells": [
    {
      "cell_type": "markdown",
      "metadata": {
        "id": "view-in-github",
        "colab_type": "text"
      },
      "source": [
        "<a href=\"https://colab.research.google.com/github/mostafa4099/EMK_CENTER_Data_Analysis/blob/main/test_wicket_analysis.ipynb\" target=\"_parent\"><img src=\"https://colab.research.google.com/assets/colab-badge.svg\" alt=\"Open In Colab\"/></a>"
      ]
    },
    {
      "cell_type": "markdown",
      "metadata": {
        "id": "62a5fJU1zaIj"
      },
      "source": [
        "# Data Analysis with Python\n",
        "## Data Manipulation with Pandas\n",
        "<br>Md. Golam Mostafa\n",
        "<br>Assistant Software Engineer, ERA-InfoTech Ltd\n",
        "<br>PM-ASDS, 3rd Batch, Jahangirnagar University.\n",
        "\n",
        "**Objectives:**\n",
        "- Data loading from excel(.xlsx)\n",
        "- Overview of dataset\n",
        "- Find out shape of dataset\n",
        "- Find out data type of dataset\n",
        "- Statistics of dataset\n",
        "- Missing value observation\n",
        "- Renaming column names of datset\n",
        "- Removing a column from the dataframe\n",
        "\n",
        "**References:**\n",
        "<br>[1] Data Source: https://stats.espncricinfo.com/ci/content/records/223646.html"
      ]
    },
    {
      "cell_type": "markdown",
      "metadata": {
        "id": "ymkg-_vlzaIn"
      },
      "source": [
        "#### Import required libraries"
      ]
    },
    {
      "cell_type": "code",
      "metadata": {
        "colab": {
          "base_uri": "https://localhost:8080/"
        },
        "id": "rPxpltYpzaIp",
        "outputId": "a8841f43-7796-4f52-f1a6-de439e46b99a"
      },
      "source": [
        "import numpy as np\n",
        "import pandas as pd\n",
        "\n",
        "from google.colab import drive\n",
        "import os\n",
        "drive.mount('/content/drive')\n",
        "os.chdir('/content/drive/My Drive/EMK Center/Data Analysis with Python/Data/')"
      ],
      "execution_count": null,
      "outputs": [
        {
          "output_type": "stream",
          "text": [
            "Drive already mounted at /content/drive; to attempt to forcibly remount, call drive.mount(\"/content/drive\", force_remount=True).\n"
          ],
          "name": "stdout"
        }
      ]
    },
    {
      "cell_type": "markdown",
      "metadata": {
        "id": "pTFAhiafzaIs"
      },
      "source": [
        "#### Reading an excel file"
      ]
    },
    {
      "cell_type": "code",
      "metadata": {
        "colab": {
          "base_uri": "https://localhost:8080/",
          "height": 204
        },
        "id": "Q9h2sWlNzaIu",
        "outputId": "255a007c-50c6-45a5-e708-06df84fc10c9"
      },
      "source": [
        "df = pd.read_excel(\"test_cricket.xlsx\", sheet_name='wickets')\n",
        "\n",
        "display(df.head())"
      ],
      "execution_count": null,
      "outputs": [
        {
          "output_type": "display_data",
          "data": {
            "text/html": [
              "<div>\n",
              "<style scoped>\n",
              "    .dataframe tbody tr th:only-of-type {\n",
              "        vertical-align: middle;\n",
              "    }\n",
              "\n",
              "    .dataframe tbody tr th {\n",
              "        vertical-align: top;\n",
              "    }\n",
              "\n",
              "    .dataframe thead th {\n",
              "        text-align: right;\n",
              "    }\n",
              "</style>\n",
              "<table border=\"1\" class=\"dataframe\">\n",
              "  <thead>\n",
              "    <tr style=\"text-align: right;\">\n",
              "      <th></th>\n",
              "      <th>Player</th>\n",
              "      <th>Span</th>\n",
              "      <th>Mat</th>\n",
              "      <th>Inns</th>\n",
              "      <th>Balls</th>\n",
              "      <th>Runs</th>\n",
              "      <th>Wkts</th>\n",
              "      <th>BBI</th>\n",
              "      <th>BBM</th>\n",
              "      <th>Ave</th>\n",
              "      <th>Econ</th>\n",
              "      <th>SR</th>\n",
              "      <th>5</th>\n",
              "      <th>10</th>\n",
              "    </tr>\n",
              "  </thead>\n",
              "  <tbody>\n",
              "    <tr>\n",
              "      <th>0</th>\n",
              "      <td>M Muralitharan (ICC/SL)</td>\n",
              "      <td>1992-2010</td>\n",
              "      <td>133</td>\n",
              "      <td>230</td>\n",
              "      <td>44039</td>\n",
              "      <td>18180</td>\n",
              "      <td>800</td>\n",
              "      <td>1951-09-01 00:00:00</td>\n",
              "      <td>16/220</td>\n",
              "      <td>22.72</td>\n",
              "      <td>2.47</td>\n",
              "      <td>55.0</td>\n",
              "      <td>67</td>\n",
              "      <td>22</td>\n",
              "    </tr>\n",
              "    <tr>\n",
              "      <th>1</th>\n",
              "      <td>SK Warne (AUS)</td>\n",
              "      <td>1992-2007</td>\n",
              "      <td>145</td>\n",
              "      <td>273</td>\n",
              "      <td>40705</td>\n",
              "      <td>17995</td>\n",
              "      <td>708</td>\n",
              "      <td>1971-08-01 00:00:00</td>\n",
              "      <td>12/128</td>\n",
              "      <td>25.41</td>\n",
              "      <td>2.65</td>\n",
              "      <td>57.4</td>\n",
              "      <td>37</td>\n",
              "      <td>10</td>\n",
              "    </tr>\n",
              "    <tr>\n",
              "      <th>2</th>\n",
              "      <td>A Kumble (INDIA)</td>\n",
              "      <td>1990-2008</td>\n",
              "      <td>132</td>\n",
              "      <td>236</td>\n",
              "      <td>40850</td>\n",
              "      <td>18355</td>\n",
              "      <td>619</td>\n",
              "      <td>1974-10-01 00:00:00</td>\n",
              "      <td>14/149</td>\n",
              "      <td>29.65</td>\n",
              "      <td>2.69</td>\n",
              "      <td>65.9</td>\n",
              "      <td>35</td>\n",
              "      <td>8</td>\n",
              "    </tr>\n",
              "    <tr>\n",
              "      <th>3</th>\n",
              "      <td>JM Anderson (ENG)</td>\n",
              "      <td>2003-2021</td>\n",
              "      <td>162</td>\n",
              "      <td>301</td>\n",
              "      <td>34791</td>\n",
              "      <td>16457</td>\n",
              "      <td>617</td>\n",
              "      <td>1942-07-01 00:00:00</td>\n",
              "      <td>1971-11-01 00:00:00</td>\n",
              "      <td>26.67</td>\n",
              "      <td>2.83</td>\n",
              "      <td>56.3</td>\n",
              "      <td>30</td>\n",
              "      <td>3</td>\n",
              "    </tr>\n",
              "    <tr>\n",
              "      <th>4</th>\n",
              "      <td>GD McGrath (AUS)</td>\n",
              "      <td>1993-2007</td>\n",
              "      <td>124</td>\n",
              "      <td>243</td>\n",
              "      <td>29248</td>\n",
              "      <td>12186</td>\n",
              "      <td>563</td>\n",
              "      <td>2021-08-24 00:00:00</td>\n",
              "      <td>2021-10-27 00:00:00</td>\n",
              "      <td>21.64</td>\n",
              "      <td>2.49</td>\n",
              "      <td>51.9</td>\n",
              "      <td>29</td>\n",
              "      <td>3</td>\n",
              "    </tr>\n",
              "  </tbody>\n",
              "</table>\n",
              "</div>"
            ],
            "text/plain": [
              "                    Player       Span  Mat  Inns  ...  Econ    SR   5  10\n",
              "0  M Muralitharan (ICC/SL)  1992-2010  133   230  ...  2.47  55.0  67  22\n",
              "1           SK Warne (AUS)  1992-2007  145   273  ...  2.65  57.4  37  10\n",
              "2         A Kumble (INDIA)  1990-2008  132   236  ...  2.69  65.9  35   8\n",
              "3        JM Anderson (ENG)  2003-2021  162   301  ...  2.83  56.3  30   3\n",
              "4         GD McGrath (AUS)  1993-2007  124   243  ...  2.49  51.9  29   3\n",
              "\n",
              "[5 rows x 14 columns]"
            ]
          },
          "metadata": {
            "tags": []
          }
        }
      ]
    },
    {
      "cell_type": "markdown",
      "metadata": {
        "id": "kFiRnHOKT6Iy"
      },
      "source": [
        "#### Display 1st 10 rows"
      ]
    },
    {
      "cell_type": "code",
      "metadata": {
        "id": "8tQ9YEZLzaIx",
        "colab": {
          "base_uri": "https://localhost:8080/",
          "height": 359
        },
        "outputId": "f6c101ce-28ac-44fd-da90-0eafdf19cab0"
      },
      "source": [
        "display(df.head(10))"
      ],
      "execution_count": null,
      "outputs": [
        {
          "output_type": "display_data",
          "data": {
            "text/html": [
              "<div>\n",
              "<style scoped>\n",
              "    .dataframe tbody tr th:only-of-type {\n",
              "        vertical-align: middle;\n",
              "    }\n",
              "\n",
              "    .dataframe tbody tr th {\n",
              "        vertical-align: top;\n",
              "    }\n",
              "\n",
              "    .dataframe thead th {\n",
              "        text-align: right;\n",
              "    }\n",
              "</style>\n",
              "<table border=\"1\" class=\"dataframe\">\n",
              "  <thead>\n",
              "    <tr style=\"text-align: right;\">\n",
              "      <th></th>\n",
              "      <th>Player</th>\n",
              "      <th>Span</th>\n",
              "      <th>Mat</th>\n",
              "      <th>Inns</th>\n",
              "      <th>Balls</th>\n",
              "      <th>Runs</th>\n",
              "      <th>Wkts</th>\n",
              "      <th>BBI</th>\n",
              "      <th>BBM</th>\n",
              "      <th>Ave</th>\n",
              "      <th>Econ</th>\n",
              "      <th>SR</th>\n",
              "      <th>5</th>\n",
              "      <th>10</th>\n",
              "    </tr>\n",
              "  </thead>\n",
              "  <tbody>\n",
              "    <tr>\n",
              "      <th>0</th>\n",
              "      <td>M Muralitharan (ICC/SL)</td>\n",
              "      <td>1992-2010</td>\n",
              "      <td>133</td>\n",
              "      <td>230</td>\n",
              "      <td>44039</td>\n",
              "      <td>18180</td>\n",
              "      <td>800</td>\n",
              "      <td>1951-09-01 00:00:00</td>\n",
              "      <td>16/220</td>\n",
              "      <td>22.72</td>\n",
              "      <td>2.47</td>\n",
              "      <td>55.0</td>\n",
              "      <td>67</td>\n",
              "      <td>22</td>\n",
              "    </tr>\n",
              "    <tr>\n",
              "      <th>1</th>\n",
              "      <td>SK Warne (AUS)</td>\n",
              "      <td>1992-2007</td>\n",
              "      <td>145</td>\n",
              "      <td>273</td>\n",
              "      <td>40705</td>\n",
              "      <td>17995</td>\n",
              "      <td>708</td>\n",
              "      <td>1971-08-01 00:00:00</td>\n",
              "      <td>12/128</td>\n",
              "      <td>25.41</td>\n",
              "      <td>2.65</td>\n",
              "      <td>57.4</td>\n",
              "      <td>37</td>\n",
              "      <td>10</td>\n",
              "    </tr>\n",
              "    <tr>\n",
              "      <th>2</th>\n",
              "      <td>A Kumble (INDIA)</td>\n",
              "      <td>1990-2008</td>\n",
              "      <td>132</td>\n",
              "      <td>236</td>\n",
              "      <td>40850</td>\n",
              "      <td>18355</td>\n",
              "      <td>619</td>\n",
              "      <td>1974-10-01 00:00:00</td>\n",
              "      <td>14/149</td>\n",
              "      <td>29.65</td>\n",
              "      <td>2.69</td>\n",
              "      <td>65.9</td>\n",
              "      <td>35</td>\n",
              "      <td>8</td>\n",
              "    </tr>\n",
              "    <tr>\n",
              "      <th>3</th>\n",
              "      <td>JM Anderson (ENG)</td>\n",
              "      <td>2003-2021</td>\n",
              "      <td>162</td>\n",
              "      <td>301</td>\n",
              "      <td>34791</td>\n",
              "      <td>16457</td>\n",
              "      <td>617</td>\n",
              "      <td>1942-07-01 00:00:00</td>\n",
              "      <td>1971-11-01 00:00:00</td>\n",
              "      <td>26.67</td>\n",
              "      <td>2.83</td>\n",
              "      <td>56.3</td>\n",
              "      <td>30</td>\n",
              "      <td>3</td>\n",
              "    </tr>\n",
              "    <tr>\n",
              "      <th>4</th>\n",
              "      <td>GD McGrath (AUS)</td>\n",
              "      <td>1993-2007</td>\n",
              "      <td>124</td>\n",
              "      <td>243</td>\n",
              "      <td>29248</td>\n",
              "      <td>12186</td>\n",
              "      <td>563</td>\n",
              "      <td>2021-08-24 00:00:00</td>\n",
              "      <td>2021-10-27 00:00:00</td>\n",
              "      <td>21.64</td>\n",
              "      <td>2.49</td>\n",
              "      <td>51.9</td>\n",
              "      <td>29</td>\n",
              "      <td>3</td>\n",
              "    </tr>\n",
              "    <tr>\n",
              "      <th>5</th>\n",
              "      <td>SCJ Broad (ENG)</td>\n",
              "      <td>2007-2021</td>\n",
              "      <td>148</td>\n",
              "      <td>272</td>\n",
              "      <td>29713</td>\n",
              "      <td>14502</td>\n",
              "      <td>523</td>\n",
              "      <td>2021-08-15 00:00:00</td>\n",
              "      <td>11/121</td>\n",
              "      <td>27.72</td>\n",
              "      <td>2.92</td>\n",
              "      <td>56.8</td>\n",
              "      <td>18</td>\n",
              "      <td>3</td>\n",
              "    </tr>\n",
              "    <tr>\n",
              "      <th>6</th>\n",
              "      <td>CA Walsh (WI)</td>\n",
              "      <td>1984-2001</td>\n",
              "      <td>132</td>\n",
              "      <td>242</td>\n",
              "      <td>30019</td>\n",
              "      <td>12688</td>\n",
              "      <td>519</td>\n",
              "      <td>1937-07-01 00:00:00</td>\n",
              "      <td>13/55</td>\n",
              "      <td>24.44</td>\n",
              "      <td>2.53</td>\n",
              "      <td>57.8</td>\n",
              "      <td>22</td>\n",
              "      <td>3</td>\n",
              "    </tr>\n",
              "    <tr>\n",
              "      <th>7</th>\n",
              "      <td>DW Steyn (SA)</td>\n",
              "      <td>2004-2019</td>\n",
              "      <td>93</td>\n",
              "      <td>171</td>\n",
              "      <td>18608</td>\n",
              "      <td>10077</td>\n",
              "      <td>439</td>\n",
              "      <td>1951-07-01 00:00:00</td>\n",
              "      <td>1960-11-01 00:00:00</td>\n",
              "      <td>22.95</td>\n",
              "      <td>3.24</td>\n",
              "      <td>42.3</td>\n",
              "      <td>26</td>\n",
              "      <td>5</td>\n",
              "    </tr>\n",
              "    <tr>\n",
              "      <th>8</th>\n",
              "      <td>N Kapil Dev (INDIA)</td>\n",
              "      <td>1978-1994</td>\n",
              "      <td>131</td>\n",
              "      <td>227</td>\n",
              "      <td>27740</td>\n",
              "      <td>12867</td>\n",
              "      <td>434</td>\n",
              "      <td>1983-09-01 00:00:00</td>\n",
              "      <td>11/146</td>\n",
              "      <td>29.64</td>\n",
              "      <td>2.78</td>\n",
              "      <td>63.9</td>\n",
              "      <td>23</td>\n",
              "      <td>2</td>\n",
              "    </tr>\n",
              "    <tr>\n",
              "      <th>9</th>\n",
              "      <td>HMRKB Herath (SL)</td>\n",
              "      <td>1999-2018</td>\n",
              "      <td>93</td>\n",
              "      <td>170</td>\n",
              "      <td>25993</td>\n",
              "      <td>12157</td>\n",
              "      <td>433</td>\n",
              "      <td>9/127</td>\n",
              "      <td>14/184</td>\n",
              "      <td>28.07</td>\n",
              "      <td>2.80</td>\n",
              "      <td>60.0</td>\n",
              "      <td>34</td>\n",
              "      <td>9</td>\n",
              "    </tr>\n",
              "  </tbody>\n",
              "</table>\n",
              "</div>"
            ],
            "text/plain": [
              "                    Player       Span  Mat  Inns  ...  Econ    SR   5  10\n",
              "0  M Muralitharan (ICC/SL)  1992-2010  133   230  ...  2.47  55.0  67  22\n",
              "1           SK Warne (AUS)  1992-2007  145   273  ...  2.65  57.4  37  10\n",
              "2         A Kumble (INDIA)  1990-2008  132   236  ...  2.69  65.9  35   8\n",
              "3        JM Anderson (ENG)  2003-2021  162   301  ...  2.83  56.3  30   3\n",
              "4         GD McGrath (AUS)  1993-2007  124   243  ...  2.49  51.9  29   3\n",
              "5          SCJ Broad (ENG)  2007-2021  148   272  ...  2.92  56.8  18   3\n",
              "6            CA Walsh (WI)  1984-2001  132   242  ...  2.53  57.8  22   3\n",
              "7            DW Steyn (SA)  2004-2019   93   171  ...  3.24  42.3  26   5\n",
              "8      N Kapil Dev (INDIA)  1978-1994  131   227  ...  2.78  63.9  23   2\n",
              "9        HMRKB Herath (SL)  1999-2018   93   170  ...  2.80  60.0  34   9\n",
              "\n",
              "[10 rows x 14 columns]"
            ]
          },
          "metadata": {
            "tags": []
          }
        }
      ]
    },
    {
      "cell_type": "markdown",
      "metadata": {
        "id": "dIpJdtYHUVpz"
      },
      "source": [
        "#### Display Columns Names"
      ]
    },
    {
      "cell_type": "code",
      "metadata": {
        "id": "j_XYKu58zaIz",
        "colab": {
          "base_uri": "https://localhost:8080/",
          "height": 68
        },
        "outputId": "649db76b-e2ec-4b20-ccd5-28b80664eebb"
      },
      "source": [
        "display(df.columns)"
      ],
      "execution_count": null,
      "outputs": [
        {
          "output_type": "display_data",
          "data": {
            "text/plain": [
              "Index(['Player',   'Span',    'Mat',   'Inns',  'Balls',   'Runs',   'Wkts',\n",
              "          'BBI',    'BBM',    'Ave',   'Econ',     'SR',        5,       10],\n",
              "      dtype='object')"
            ]
          },
          "metadata": {
            "tags": []
          }
        }
      ]
    },
    {
      "cell_type": "markdown",
      "metadata": {
        "id": "ll9ArtFZUpU7"
      },
      "source": [
        "Here,\n",
        "- Player - individual player name with his country name.\n",
        "- Span - career range of player\n",
        "- Mat - total number of played matchs\n",
        "- Inns - total number of played innings\n",
        "- Balls - total number of delivered balls\n",
        "- Wkts - total number of wickets taken\n",
        "- BBI - best bowling in innings\n",
        "- BBM - best bowling in match\n",
        "- Ave - average number of given runs for every wicket (Average)\n",
        "- Econ - average number of given runs in each overs (Economy)\n",
        "- SR - average number of delivered balls for every wicket (Strike Rate)\n",
        "- 5 - total number of 5 wickets taken in a match\n",
        "- 10 - total number of 10 wickets taken in a match\n",
        "\n"
      ]
    },
    {
      "cell_type": "markdown",
      "metadata": {
        "id": "L3LGON6lZy5q"
      },
      "source": [
        "#### Number of columns and rows of dataset"
      ]
    },
    {
      "cell_type": "code",
      "metadata": {
        "colab": {
          "base_uri": "https://localhost:8080/",
          "height": 34
        },
        "id": "_7OtZlkMaAwr",
        "outputId": "6ceb8cf6-8e88-46cb-f932-2c384f9fdaa6"
      },
      "source": [
        "display(df.shape)"
      ],
      "execution_count": null,
      "outputs": [
        {
          "output_type": "display_data",
          "data": {
            "text/plain": [
              "(79, 14)"
            ]
          },
          "metadata": {
            "tags": []
          }
        }
      ]
    },
    {
      "cell_type": "markdown",
      "metadata": {
        "id": "B2QpuGT3acKD"
      },
      "source": [
        "So, the dataset have 14 columns and 79 rows"
      ]
    },
    {
      "cell_type": "markdown",
      "metadata": {
        "id": "13rMWHFXamH7"
      },
      "source": [
        "#### Dataset's Data Statistics"
      ]
    },
    {
      "cell_type": "code",
      "metadata": {
        "colab": {
          "base_uri": "https://localhost:8080/",
          "height": 297
        },
        "id": "Wlq9N768a3b7",
        "outputId": "ae894a98-250b-4129-9cef-1606d8bd82be"
      },
      "source": [
        "display(df.describe())"
      ],
      "execution_count": null,
      "outputs": [
        {
          "output_type": "display_data",
          "data": {
            "text/html": [
              "<div>\n",
              "<style scoped>\n",
              "    .dataframe tbody tr th:only-of-type {\n",
              "        vertical-align: middle;\n",
              "    }\n",
              "\n",
              "    .dataframe tbody tr th {\n",
              "        vertical-align: top;\n",
              "    }\n",
              "\n",
              "    .dataframe thead th {\n",
              "        text-align: right;\n",
              "    }\n",
              "</style>\n",
              "<table border=\"1\" class=\"dataframe\">\n",
              "  <thead>\n",
              "    <tr style=\"text-align: right;\">\n",
              "      <th></th>\n",
              "      <th>Mat</th>\n",
              "      <th>Inns</th>\n",
              "      <th>Balls</th>\n",
              "      <th>Runs</th>\n",
              "      <th>Wkts</th>\n",
              "      <th>Ave</th>\n",
              "      <th>Econ</th>\n",
              "      <th>SR</th>\n",
              "      <th>5</th>\n",
              "      <th>10</th>\n",
              "    </tr>\n",
              "  </thead>\n",
              "  <tbody>\n",
              "    <tr>\n",
              "      <th>count</th>\n",
              "      <td>79.000000</td>\n",
              "      <td>79.000000</td>\n",
              "      <td>79.000000</td>\n",
              "      <td>79.000000</td>\n",
              "      <td>79.000000</td>\n",
              "      <td>79.000000</td>\n",
              "      <td>79.000000</td>\n",
              "      <td>79.000000</td>\n",
              "      <td>79.000000</td>\n",
              "      <td>79.000000</td>\n",
              "    </tr>\n",
              "    <tr>\n",
              "      <th>mean</th>\n",
              "      <td>80.101266</td>\n",
              "      <td>144.797468</td>\n",
              "      <td>18630.303797</td>\n",
              "      <td>8595.506329</td>\n",
              "      <td>317.101266</td>\n",
              "      <td>27.466456</td>\n",
              "      <td>2.806582</td>\n",
              "      <td>59.187342</td>\n",
              "      <td>16.354430</td>\n",
              "      <td>2.797468</td>\n",
              "    </tr>\n",
              "    <tr>\n",
              "      <th>std</th>\n",
              "      <td>28.537692</td>\n",
              "      <td>51.042310</td>\n",
              "      <td>7190.036515</td>\n",
              "      <td>3080.256645</td>\n",
              "      <td>121.731587</td>\n",
              "      <td>3.657561</td>\n",
              "      <td>0.351666</td>\n",
              "      <td>9.349337</td>\n",
              "      <td>9.642372</td>\n",
              "      <td>3.235935</td>\n",
              "    </tr>\n",
              "    <tr>\n",
              "      <th>min</th>\n",
              "      <td>37.000000</td>\n",
              "      <td>67.000000</td>\n",
              "      <td>8785.000000</td>\n",
              "      <td>4846.000000</td>\n",
              "      <td>200.000000</td>\n",
              "      <td>20.940000</td>\n",
              "      <td>1.980000</td>\n",
              "      <td>41.200000</td>\n",
              "      <td>3.000000</td>\n",
              "      <td>0.000000</td>\n",
              "    </tr>\n",
              "    <tr>\n",
              "      <th>25%</th>\n",
              "      <td>60.500000</td>\n",
              "      <td>110.000000</td>\n",
              "      <td>13580.000000</td>\n",
              "      <td>6456.500000</td>\n",
              "      <td>229.000000</td>\n",
              "      <td>24.425000</td>\n",
              "      <td>2.600000</td>\n",
              "      <td>53.300000</td>\n",
              "      <td>9.500000</td>\n",
              "      <td>1.000000</td>\n",
              "    </tr>\n",
              "    <tr>\n",
              "      <th>50%</th>\n",
              "      <td>71.000000</td>\n",
              "      <td>129.000000</td>\n",
              "      <td>16498.000000</td>\n",
              "      <td>7742.000000</td>\n",
              "      <td>266.000000</td>\n",
              "      <td>28.000000</td>\n",
              "      <td>2.820000</td>\n",
              "      <td>57.400000</td>\n",
              "      <td>14.000000</td>\n",
              "      <td>2.000000</td>\n",
              "    </tr>\n",
              "    <tr>\n",
              "      <th>75%</th>\n",
              "      <td>93.000000</td>\n",
              "      <td>169.000000</td>\n",
              "      <td>21742.500000</td>\n",
              "      <td>9756.000000</td>\n",
              "      <td>374.500000</td>\n",
              "      <td>29.870000</td>\n",
              "      <td>3.080000</td>\n",
              "      <td>63.950000</td>\n",
              "      <td>20.500000</td>\n",
              "      <td>3.500000</td>\n",
              "    </tr>\n",
              "    <tr>\n",
              "      <th>max</th>\n",
              "      <td>166.000000</td>\n",
              "      <td>301.000000</td>\n",
              "      <td>44039.000000</td>\n",
              "      <td>18355.000000</td>\n",
              "      <td>800.000000</td>\n",
              "      <td>34.790000</td>\n",
              "      <td>3.460000</td>\n",
              "      <td>91.900000</td>\n",
              "      <td>67.000000</td>\n",
              "      <td>22.000000</td>\n",
              "    </tr>\n",
              "  </tbody>\n",
              "</table>\n",
              "</div>"
            ],
            "text/plain": [
              "              Mat        Inns         Balls  ...         SR          5         10\n",
              "count   79.000000   79.000000     79.000000  ...  79.000000  79.000000  79.000000\n",
              "mean    80.101266  144.797468  18630.303797  ...  59.187342  16.354430   2.797468\n",
              "std     28.537692   51.042310   7190.036515  ...   9.349337   9.642372   3.235935\n",
              "min     37.000000   67.000000   8785.000000  ...  41.200000   3.000000   0.000000\n",
              "25%     60.500000  110.000000  13580.000000  ...  53.300000   9.500000   1.000000\n",
              "50%     71.000000  129.000000  16498.000000  ...  57.400000  14.000000   2.000000\n",
              "75%     93.000000  169.000000  21742.500000  ...  63.950000  20.500000   3.500000\n",
              "max    166.000000  301.000000  44039.000000  ...  91.900000  67.000000  22.000000\n",
              "\n",
              "[8 rows x 10 columns]"
            ]
          },
          "metadata": {
            "tags": []
          }
        }
      ]
    },
    {
      "cell_type": "markdown",
      "metadata": {
        "id": "9bxSamsnbIba"
      },
      "source": [
        "#### Data Type of Dataset"
      ]
    },
    {
      "cell_type": "code",
      "metadata": {
        "colab": {
          "base_uri": "https://localhost:8080/",
          "height": 391
        },
        "id": "oS6d2MZ4bLqb",
        "outputId": "4a1a4ec8-15fb-4c36-e957-6dc85680b0a6"
      },
      "source": [
        "display(df.info())"
      ],
      "execution_count": null,
      "outputs": [
        {
          "output_type": "stream",
          "text": [
            "<class 'pandas.core.frame.DataFrame'>\n",
            "RangeIndex: 79 entries, 0 to 78\n",
            "Data columns (total 14 columns):\n",
            " #   Column  Non-Null Count  Dtype  \n",
            "---  ------  --------------  -----  \n",
            " 0   Player  79 non-null     object \n",
            " 1   Span    79 non-null     object \n",
            " 2   Mat     79 non-null     int64  \n",
            " 3   Inns    79 non-null     int64  \n",
            " 4   Balls   79 non-null     int64  \n",
            " 5   Runs    79 non-null     int64  \n",
            " 6   Wkts    79 non-null     int64  \n",
            " 7   BBI     79 non-null     object \n",
            " 8   BBM     79 non-null     object \n",
            " 9   Ave     79 non-null     float64\n",
            " 10  Econ    79 non-null     float64\n",
            " 11  SR      79 non-null     float64\n",
            " 12  5       79 non-null     int64  \n",
            " 13  10      79 non-null     int64  \n",
            "dtypes: float64(3), int64(7), object(4)\n",
            "memory usage: 8.8+ KB\n"
          ],
          "name": "stdout"
        },
        {
          "output_type": "display_data",
          "data": {
            "text/plain": [
              "None"
            ]
          },
          "metadata": {
            "tags": []
          }
        }
      ]
    },
    {
      "cell_type": "markdown",
      "metadata": {
        "id": "1xFv_yMVb3tc"
      },
      "source": [
        "#### Missing values checking"
      ]
    },
    {
      "cell_type": "code",
      "metadata": {
        "colab": {
          "base_uri": "https://localhost:8080/",
          "height": 272
        },
        "id": "rXNhSDqxcBny",
        "outputId": "3b5b3c55-ebd1-4510-9ad4-2240bab518f9"
      },
      "source": [
        "display(df.isnull().sum())"
      ],
      "execution_count": null,
      "outputs": [
        {
          "output_type": "display_data",
          "data": {
            "text/plain": [
              "Player    0\n",
              "Span      0\n",
              "Mat       0\n",
              "Inns      0\n",
              "Balls     0\n",
              "Runs      0\n",
              "Wkts      0\n",
              "BBI       0\n",
              "BBM       0\n",
              "Ave       0\n",
              "Econ      0\n",
              "SR        0\n",
              "5         0\n",
              "10        0\n",
              "dtype: int64"
            ]
          },
          "metadata": {
            "tags": []
          }
        }
      ]
    },
    {
      "cell_type": "markdown",
      "metadata": {
        "id": "AaS4lravcg0r"
      },
      "source": [
        "So, we see there is no missing values"
      ]
    },
    {
      "cell_type": "markdown",
      "metadata": {
        "id": "Kc1NlI2lzaIz"
      },
      "source": [
        "#### Rename the column names"
      ]
    },
    {
      "cell_type": "code",
      "metadata": {
        "colab": {
          "base_uri": "https://localhost:8080/"
        },
        "id": "RaQWSBt_zaI0",
        "outputId": "44b5ef91-5424-4396-c78d-c309e308c188"
      },
      "source": [
        "print(df.columns)"
      ],
      "execution_count": null,
      "outputs": [
        {
          "output_type": "stream",
          "text": [
            "Index(['Player',   'Span',    'Mat',   'Inns',  'Balls',   'Runs',   'Wkts',\n",
            "          'BBI',    'BBM',    'Ave',   'Econ',     'SR',        5,       10],\n",
            "      dtype='object')\n"
          ],
          "name": "stdout"
        }
      ]
    },
    {
      "cell_type": "code",
      "metadata": {
        "colab": {
          "base_uri": "https://localhost:8080/",
          "height": 204
        },
        "id": "mCojnOlBzaI0",
        "outputId": "5d059c8b-c1da-4685-efe7-ba95703245e4"
      },
      "source": [
        "df = df.rename(columns={'Mat':'Match', \n",
        "                        'Inns':'Innings',\n",
        "                        'Wkts': 'Wickets',\n",
        "                        'Wkts': 'Wickets',\n",
        "                        'BBI': 'Best_bowling_innings',\n",
        "                        'BBM': 'Best_bowling_match',\n",
        "                        'Ave': 'Average',\n",
        "                        'Econ': 'Economy',\n",
        "                        'SR': 'StrikeRate',\n",
        "                        5: 'Five_wickets',\n",
        "                        10: 'Ten_wickets'})\n",
        "\n",
        "display(df.head())"
      ],
      "execution_count": null,
      "outputs": [
        {
          "output_type": "display_data",
          "data": {
            "text/html": [
              "<div>\n",
              "<style scoped>\n",
              "    .dataframe tbody tr th:only-of-type {\n",
              "        vertical-align: middle;\n",
              "    }\n",
              "\n",
              "    .dataframe tbody tr th {\n",
              "        vertical-align: top;\n",
              "    }\n",
              "\n",
              "    .dataframe thead th {\n",
              "        text-align: right;\n",
              "    }\n",
              "</style>\n",
              "<table border=\"1\" class=\"dataframe\">\n",
              "  <thead>\n",
              "    <tr style=\"text-align: right;\">\n",
              "      <th></th>\n",
              "      <th>Player</th>\n",
              "      <th>Span</th>\n",
              "      <th>Match</th>\n",
              "      <th>Innings</th>\n",
              "      <th>Balls</th>\n",
              "      <th>Runs</th>\n",
              "      <th>Wickets</th>\n",
              "      <th>Best_bowling_innings</th>\n",
              "      <th>Best_bowling_match</th>\n",
              "      <th>Average</th>\n",
              "      <th>Economy</th>\n",
              "      <th>StrikeRate</th>\n",
              "      <th>Five_wickets</th>\n",
              "      <th>Ten_wickets</th>\n",
              "    </tr>\n",
              "  </thead>\n",
              "  <tbody>\n",
              "    <tr>\n",
              "      <th>0</th>\n",
              "      <td>M Muralitharan (ICC/SL)</td>\n",
              "      <td>1992-2010</td>\n",
              "      <td>133</td>\n",
              "      <td>230</td>\n",
              "      <td>44039</td>\n",
              "      <td>18180</td>\n",
              "      <td>800</td>\n",
              "      <td>1951-09-01 00:00:00</td>\n",
              "      <td>16/220</td>\n",
              "      <td>22.72</td>\n",
              "      <td>2.47</td>\n",
              "      <td>55.0</td>\n",
              "      <td>67</td>\n",
              "      <td>22</td>\n",
              "    </tr>\n",
              "    <tr>\n",
              "      <th>1</th>\n",
              "      <td>SK Warne (AUS)</td>\n",
              "      <td>1992-2007</td>\n",
              "      <td>145</td>\n",
              "      <td>273</td>\n",
              "      <td>40705</td>\n",
              "      <td>17995</td>\n",
              "      <td>708</td>\n",
              "      <td>1971-08-01 00:00:00</td>\n",
              "      <td>12/128</td>\n",
              "      <td>25.41</td>\n",
              "      <td>2.65</td>\n",
              "      <td>57.4</td>\n",
              "      <td>37</td>\n",
              "      <td>10</td>\n",
              "    </tr>\n",
              "    <tr>\n",
              "      <th>2</th>\n",
              "      <td>A Kumble (INDIA)</td>\n",
              "      <td>1990-2008</td>\n",
              "      <td>132</td>\n",
              "      <td>236</td>\n",
              "      <td>40850</td>\n",
              "      <td>18355</td>\n",
              "      <td>619</td>\n",
              "      <td>1974-10-01 00:00:00</td>\n",
              "      <td>14/149</td>\n",
              "      <td>29.65</td>\n",
              "      <td>2.69</td>\n",
              "      <td>65.9</td>\n",
              "      <td>35</td>\n",
              "      <td>8</td>\n",
              "    </tr>\n",
              "    <tr>\n",
              "      <th>3</th>\n",
              "      <td>JM Anderson (ENG)</td>\n",
              "      <td>2003-2021</td>\n",
              "      <td>162</td>\n",
              "      <td>301</td>\n",
              "      <td>34791</td>\n",
              "      <td>16457</td>\n",
              "      <td>617</td>\n",
              "      <td>1942-07-01 00:00:00</td>\n",
              "      <td>1971-11-01 00:00:00</td>\n",
              "      <td>26.67</td>\n",
              "      <td>2.83</td>\n",
              "      <td>56.3</td>\n",
              "      <td>30</td>\n",
              "      <td>3</td>\n",
              "    </tr>\n",
              "    <tr>\n",
              "      <th>4</th>\n",
              "      <td>GD McGrath (AUS)</td>\n",
              "      <td>1993-2007</td>\n",
              "      <td>124</td>\n",
              "      <td>243</td>\n",
              "      <td>29248</td>\n",
              "      <td>12186</td>\n",
              "      <td>563</td>\n",
              "      <td>2021-08-24 00:00:00</td>\n",
              "      <td>2021-10-27 00:00:00</td>\n",
              "      <td>21.64</td>\n",
              "      <td>2.49</td>\n",
              "      <td>51.9</td>\n",
              "      <td>29</td>\n",
              "      <td>3</td>\n",
              "    </tr>\n",
              "  </tbody>\n",
              "</table>\n",
              "</div>"
            ],
            "text/plain": [
              "                    Player       Span  ...  Five_wickets  Ten_wickets\n",
              "0  M Muralitharan (ICC/SL)  1992-2010  ...            67           22\n",
              "1           SK Warne (AUS)  1992-2007  ...            37           10\n",
              "2         A Kumble (INDIA)  1990-2008  ...            35            8\n",
              "3        JM Anderson (ENG)  2003-2021  ...            30            3\n",
              "4         GD McGrath (AUS)  1993-2007  ...            29            3\n",
              "\n",
              "[5 rows x 14 columns]"
            ]
          },
          "metadata": {
            "tags": []
          }
        }
      ]
    },
    {
      "cell_type": "markdown",
      "metadata": {
        "id": "BZK8UOflzaI3"
      },
      "source": [
        "#### Split a column"
      ]
    },
    {
      "cell_type": "code",
      "metadata": {
        "colab": {
          "base_uri": "https://localhost:8080/",
          "height": 359
        },
        "id": "XSkNDAoOzaI3",
        "outputId": "19a3736f-7f3e-4b4e-a9da-e89775468179"
      },
      "source": [
        "df_player = df['Player'].str.split(\"(\", expand=True)\n",
        "\n",
        "display(df_player.head(10))"
      ],
      "execution_count": null,
      "outputs": [
        {
          "output_type": "display_data",
          "data": {
            "text/html": [
              "<div>\n",
              "<style scoped>\n",
              "    .dataframe tbody tr th:only-of-type {\n",
              "        vertical-align: middle;\n",
              "    }\n",
              "\n",
              "    .dataframe tbody tr th {\n",
              "        vertical-align: top;\n",
              "    }\n",
              "\n",
              "    .dataframe thead th {\n",
              "        text-align: right;\n",
              "    }\n",
              "</style>\n",
              "<table border=\"1\" class=\"dataframe\">\n",
              "  <thead>\n",
              "    <tr style=\"text-align: right;\">\n",
              "      <th></th>\n",
              "      <th>0</th>\n",
              "      <th>1</th>\n",
              "    </tr>\n",
              "  </thead>\n",
              "  <tbody>\n",
              "    <tr>\n",
              "      <th>0</th>\n",
              "      <td>M Muralitharan</td>\n",
              "      <td>ICC/SL)</td>\n",
              "    </tr>\n",
              "    <tr>\n",
              "      <th>1</th>\n",
              "      <td>SK Warne</td>\n",
              "      <td>AUS)</td>\n",
              "    </tr>\n",
              "    <tr>\n",
              "      <th>2</th>\n",
              "      <td>A Kumble</td>\n",
              "      <td>INDIA)</td>\n",
              "    </tr>\n",
              "    <tr>\n",
              "      <th>3</th>\n",
              "      <td>JM Anderson</td>\n",
              "      <td>ENG)</td>\n",
              "    </tr>\n",
              "    <tr>\n",
              "      <th>4</th>\n",
              "      <td>GD McGrath</td>\n",
              "      <td>AUS)</td>\n",
              "    </tr>\n",
              "    <tr>\n",
              "      <th>5</th>\n",
              "      <td>SCJ Broad</td>\n",
              "      <td>ENG)</td>\n",
              "    </tr>\n",
              "    <tr>\n",
              "      <th>6</th>\n",
              "      <td>CA Walsh</td>\n",
              "      <td>WI)</td>\n",
              "    </tr>\n",
              "    <tr>\n",
              "      <th>7</th>\n",
              "      <td>DW Steyn</td>\n",
              "      <td>SA)</td>\n",
              "    </tr>\n",
              "    <tr>\n",
              "      <th>8</th>\n",
              "      <td>N Kapil Dev</td>\n",
              "      <td>INDIA)</td>\n",
              "    </tr>\n",
              "    <tr>\n",
              "      <th>9</th>\n",
              "      <td>HMRKB Herath</td>\n",
              "      <td>SL)</td>\n",
              "    </tr>\n",
              "  </tbody>\n",
              "</table>\n",
              "</div>"
            ],
            "text/plain": [
              "                 0        1\n",
              "0  M Muralitharan   ICC/SL)\n",
              "1        SK Warne      AUS)\n",
              "2        A Kumble    INDIA)\n",
              "3     JM Anderson      ENG)\n",
              "4      GD McGrath      AUS)\n",
              "5       SCJ Broad      ENG)\n",
              "6        CA Walsh       WI)\n",
              "7        DW Steyn       SA)\n",
              "8     N Kapil Dev    INDIA)\n",
              "9    HMRKB Herath       SL)"
            ]
          },
          "metadata": {
            "tags": []
          }
        }
      ]
    },
    {
      "cell_type": "markdown",
      "metadata": {
        "id": "7b53MJ7xe_8C"
      },
      "source": [
        "####  Concating DataFrame"
      ]
    },
    {
      "cell_type": "code",
      "metadata": {
        "colab": {
          "base_uri": "https://localhost:8080/",
          "height": 204
        },
        "id": "J17rn2u9zaI4",
        "outputId": "736e3189-1fd4-49c5-8872-b5cbea67e053"
      },
      "source": [
        "df = pd.concat([df, df_player], axis=1)\n",
        "\n",
        "display(df.head())"
      ],
      "execution_count": null,
      "outputs": [
        {
          "output_type": "display_data",
          "data": {
            "text/html": [
              "<div>\n",
              "<style scoped>\n",
              "    .dataframe tbody tr th:only-of-type {\n",
              "        vertical-align: middle;\n",
              "    }\n",
              "\n",
              "    .dataframe tbody tr th {\n",
              "        vertical-align: top;\n",
              "    }\n",
              "\n",
              "    .dataframe thead th {\n",
              "        text-align: right;\n",
              "    }\n",
              "</style>\n",
              "<table border=\"1\" class=\"dataframe\">\n",
              "  <thead>\n",
              "    <tr style=\"text-align: right;\">\n",
              "      <th></th>\n",
              "      <th>Player</th>\n",
              "      <th>Span</th>\n",
              "      <th>Match</th>\n",
              "      <th>Innings</th>\n",
              "      <th>Balls</th>\n",
              "      <th>Runs</th>\n",
              "      <th>Wickets</th>\n",
              "      <th>Best_bowling_innings</th>\n",
              "      <th>Best_bowling_match</th>\n",
              "      <th>Average</th>\n",
              "      <th>Economy</th>\n",
              "      <th>StrikeRate</th>\n",
              "      <th>Five_wickets</th>\n",
              "      <th>Ten_wickets</th>\n",
              "      <th>0</th>\n",
              "      <th>1</th>\n",
              "    </tr>\n",
              "  </thead>\n",
              "  <tbody>\n",
              "    <tr>\n",
              "      <th>0</th>\n",
              "      <td>M Muralitharan (ICC/SL)</td>\n",
              "      <td>1992-2010</td>\n",
              "      <td>133</td>\n",
              "      <td>230</td>\n",
              "      <td>44039</td>\n",
              "      <td>18180</td>\n",
              "      <td>800</td>\n",
              "      <td>1951-09-01 00:00:00</td>\n",
              "      <td>16/220</td>\n",
              "      <td>22.72</td>\n",
              "      <td>2.47</td>\n",
              "      <td>55.0</td>\n",
              "      <td>67</td>\n",
              "      <td>22</td>\n",
              "      <td>M Muralitharan</td>\n",
              "      <td>ICC/SL)</td>\n",
              "    </tr>\n",
              "    <tr>\n",
              "      <th>1</th>\n",
              "      <td>SK Warne (AUS)</td>\n",
              "      <td>1992-2007</td>\n",
              "      <td>145</td>\n",
              "      <td>273</td>\n",
              "      <td>40705</td>\n",
              "      <td>17995</td>\n",
              "      <td>708</td>\n",
              "      <td>1971-08-01 00:00:00</td>\n",
              "      <td>12/128</td>\n",
              "      <td>25.41</td>\n",
              "      <td>2.65</td>\n",
              "      <td>57.4</td>\n",
              "      <td>37</td>\n",
              "      <td>10</td>\n",
              "      <td>SK Warne</td>\n",
              "      <td>AUS)</td>\n",
              "    </tr>\n",
              "    <tr>\n",
              "      <th>2</th>\n",
              "      <td>A Kumble (INDIA)</td>\n",
              "      <td>1990-2008</td>\n",
              "      <td>132</td>\n",
              "      <td>236</td>\n",
              "      <td>40850</td>\n",
              "      <td>18355</td>\n",
              "      <td>619</td>\n",
              "      <td>1974-10-01 00:00:00</td>\n",
              "      <td>14/149</td>\n",
              "      <td>29.65</td>\n",
              "      <td>2.69</td>\n",
              "      <td>65.9</td>\n",
              "      <td>35</td>\n",
              "      <td>8</td>\n",
              "      <td>A Kumble</td>\n",
              "      <td>INDIA)</td>\n",
              "    </tr>\n",
              "    <tr>\n",
              "      <th>3</th>\n",
              "      <td>JM Anderson (ENG)</td>\n",
              "      <td>2003-2021</td>\n",
              "      <td>162</td>\n",
              "      <td>301</td>\n",
              "      <td>34791</td>\n",
              "      <td>16457</td>\n",
              "      <td>617</td>\n",
              "      <td>1942-07-01 00:00:00</td>\n",
              "      <td>1971-11-01 00:00:00</td>\n",
              "      <td>26.67</td>\n",
              "      <td>2.83</td>\n",
              "      <td>56.3</td>\n",
              "      <td>30</td>\n",
              "      <td>3</td>\n",
              "      <td>JM Anderson</td>\n",
              "      <td>ENG)</td>\n",
              "    </tr>\n",
              "    <tr>\n",
              "      <th>4</th>\n",
              "      <td>GD McGrath (AUS)</td>\n",
              "      <td>1993-2007</td>\n",
              "      <td>124</td>\n",
              "      <td>243</td>\n",
              "      <td>29248</td>\n",
              "      <td>12186</td>\n",
              "      <td>563</td>\n",
              "      <td>2021-08-24 00:00:00</td>\n",
              "      <td>2021-10-27 00:00:00</td>\n",
              "      <td>21.64</td>\n",
              "      <td>2.49</td>\n",
              "      <td>51.9</td>\n",
              "      <td>29</td>\n",
              "      <td>3</td>\n",
              "      <td>GD McGrath</td>\n",
              "      <td>AUS)</td>\n",
              "    </tr>\n",
              "  </tbody>\n",
              "</table>\n",
              "</div>"
            ],
            "text/plain": [
              "                    Player       Span  ...                0        1\n",
              "0  M Muralitharan (ICC/SL)  1992-2010  ...  M Muralitharan   ICC/SL)\n",
              "1           SK Warne (AUS)  1992-2007  ...        SK Warne      AUS)\n",
              "2         A Kumble (INDIA)  1990-2008  ...        A Kumble    INDIA)\n",
              "3        JM Anderson (ENG)  2003-2021  ...     JM Anderson      ENG)\n",
              "4         GD McGrath (AUS)  1993-2007  ...      GD McGrath      AUS)\n",
              "\n",
              "[5 rows x 16 columns]"
            ]
          },
          "metadata": {
            "tags": []
          }
        }
      ]
    },
    {
      "cell_type": "markdown",
      "metadata": {
        "id": "E1Fk_dX2zaI4"
      },
      "source": [
        "#### Remove column"
      ]
    },
    {
      "cell_type": "code",
      "metadata": {
        "colab": {
          "base_uri": "https://localhost:8080/",
          "height": 204
        },
        "id": "QDpk8bevzaI4",
        "outputId": "1df38231-1110-4221-b9a8-b09607f2dfd8"
      },
      "source": [
        "df.drop('Player', axis=1, inplace=True)\n",
        "\n",
        "display(df.head())"
      ],
      "execution_count": null,
      "outputs": [
        {
          "output_type": "display_data",
          "data": {
            "text/html": [
              "<div>\n",
              "<style scoped>\n",
              "    .dataframe tbody tr th:only-of-type {\n",
              "        vertical-align: middle;\n",
              "    }\n",
              "\n",
              "    .dataframe tbody tr th {\n",
              "        vertical-align: top;\n",
              "    }\n",
              "\n",
              "    .dataframe thead th {\n",
              "        text-align: right;\n",
              "    }\n",
              "</style>\n",
              "<table border=\"1\" class=\"dataframe\">\n",
              "  <thead>\n",
              "    <tr style=\"text-align: right;\">\n",
              "      <th></th>\n",
              "      <th>Span</th>\n",
              "      <th>Match</th>\n",
              "      <th>Innings</th>\n",
              "      <th>Balls</th>\n",
              "      <th>Runs</th>\n",
              "      <th>Wickets</th>\n",
              "      <th>Best_bowling_innings</th>\n",
              "      <th>Best_bowling_match</th>\n",
              "      <th>Average</th>\n",
              "      <th>Economy</th>\n",
              "      <th>StrikeRate</th>\n",
              "      <th>Five_wickets</th>\n",
              "      <th>Ten_wickets</th>\n",
              "      <th>0</th>\n",
              "      <th>1</th>\n",
              "    </tr>\n",
              "  </thead>\n",
              "  <tbody>\n",
              "    <tr>\n",
              "      <th>0</th>\n",
              "      <td>1992-2010</td>\n",
              "      <td>133</td>\n",
              "      <td>230</td>\n",
              "      <td>44039</td>\n",
              "      <td>18180</td>\n",
              "      <td>800</td>\n",
              "      <td>1951-09-01 00:00:00</td>\n",
              "      <td>16/220</td>\n",
              "      <td>22.72</td>\n",
              "      <td>2.47</td>\n",
              "      <td>55.0</td>\n",
              "      <td>67</td>\n",
              "      <td>22</td>\n",
              "      <td>M Muralitharan</td>\n",
              "      <td>ICC/SL)</td>\n",
              "    </tr>\n",
              "    <tr>\n",
              "      <th>1</th>\n",
              "      <td>1992-2007</td>\n",
              "      <td>145</td>\n",
              "      <td>273</td>\n",
              "      <td>40705</td>\n",
              "      <td>17995</td>\n",
              "      <td>708</td>\n",
              "      <td>1971-08-01 00:00:00</td>\n",
              "      <td>12/128</td>\n",
              "      <td>25.41</td>\n",
              "      <td>2.65</td>\n",
              "      <td>57.4</td>\n",
              "      <td>37</td>\n",
              "      <td>10</td>\n",
              "      <td>SK Warne</td>\n",
              "      <td>AUS)</td>\n",
              "    </tr>\n",
              "    <tr>\n",
              "      <th>2</th>\n",
              "      <td>1990-2008</td>\n",
              "      <td>132</td>\n",
              "      <td>236</td>\n",
              "      <td>40850</td>\n",
              "      <td>18355</td>\n",
              "      <td>619</td>\n",
              "      <td>1974-10-01 00:00:00</td>\n",
              "      <td>14/149</td>\n",
              "      <td>29.65</td>\n",
              "      <td>2.69</td>\n",
              "      <td>65.9</td>\n",
              "      <td>35</td>\n",
              "      <td>8</td>\n",
              "      <td>A Kumble</td>\n",
              "      <td>INDIA)</td>\n",
              "    </tr>\n",
              "    <tr>\n",
              "      <th>3</th>\n",
              "      <td>2003-2021</td>\n",
              "      <td>162</td>\n",
              "      <td>301</td>\n",
              "      <td>34791</td>\n",
              "      <td>16457</td>\n",
              "      <td>617</td>\n",
              "      <td>1942-07-01 00:00:00</td>\n",
              "      <td>1971-11-01 00:00:00</td>\n",
              "      <td>26.67</td>\n",
              "      <td>2.83</td>\n",
              "      <td>56.3</td>\n",
              "      <td>30</td>\n",
              "      <td>3</td>\n",
              "      <td>JM Anderson</td>\n",
              "      <td>ENG)</td>\n",
              "    </tr>\n",
              "    <tr>\n",
              "      <th>4</th>\n",
              "      <td>1993-2007</td>\n",
              "      <td>124</td>\n",
              "      <td>243</td>\n",
              "      <td>29248</td>\n",
              "      <td>12186</td>\n",
              "      <td>563</td>\n",
              "      <td>2021-08-24 00:00:00</td>\n",
              "      <td>2021-10-27 00:00:00</td>\n",
              "      <td>21.64</td>\n",
              "      <td>2.49</td>\n",
              "      <td>51.9</td>\n",
              "      <td>29</td>\n",
              "      <td>3</td>\n",
              "      <td>GD McGrath</td>\n",
              "      <td>AUS)</td>\n",
              "    </tr>\n",
              "  </tbody>\n",
              "</table>\n",
              "</div>"
            ],
            "text/plain": [
              "        Span  Match  Innings  ...  Ten_wickets                0        1\n",
              "0  1992-2010    133      230  ...           22  M Muralitharan   ICC/SL)\n",
              "1  1992-2007    145      273  ...           10        SK Warne      AUS)\n",
              "2  1990-2008    132      236  ...            8        A Kumble    INDIA)\n",
              "3  2003-2021    162      301  ...            3     JM Anderson      ENG)\n",
              "4  1993-2007    124      243  ...            3      GD McGrath      AUS)\n",
              "\n",
              "[5 rows x 15 columns]"
            ]
          },
          "metadata": {
            "tags": []
          }
        }
      ]
    },
    {
      "cell_type": "code",
      "metadata": {
        "colab": {
          "base_uri": "https://localhost:8080/",
          "height": 204
        },
        "id": "WytH-wnpzaI5",
        "outputId": "a4a6cfd5-698c-4c6d-bc90-a3242d6dda50"
      },
      "source": [
        "df = df.rename(columns={0: 'Player',\n",
        "                        1: 'Country'})\n",
        "\n",
        "display(df.head())"
      ],
      "execution_count": null,
      "outputs": [
        {
          "output_type": "display_data",
          "data": {
            "text/html": [
              "<div>\n",
              "<style scoped>\n",
              "    .dataframe tbody tr th:only-of-type {\n",
              "        vertical-align: middle;\n",
              "    }\n",
              "\n",
              "    .dataframe tbody tr th {\n",
              "        vertical-align: top;\n",
              "    }\n",
              "\n",
              "    .dataframe thead th {\n",
              "        text-align: right;\n",
              "    }\n",
              "</style>\n",
              "<table border=\"1\" class=\"dataframe\">\n",
              "  <thead>\n",
              "    <tr style=\"text-align: right;\">\n",
              "      <th></th>\n",
              "      <th>Span</th>\n",
              "      <th>Match</th>\n",
              "      <th>Innings</th>\n",
              "      <th>Balls</th>\n",
              "      <th>Runs</th>\n",
              "      <th>Wickets</th>\n",
              "      <th>Best_bowling_innings</th>\n",
              "      <th>Best_bowling_match</th>\n",
              "      <th>Average</th>\n",
              "      <th>Economy</th>\n",
              "      <th>StrikeRate</th>\n",
              "      <th>Five_wickets</th>\n",
              "      <th>Ten_wickets</th>\n",
              "      <th>Player</th>\n",
              "      <th>Country</th>\n",
              "    </tr>\n",
              "  </thead>\n",
              "  <tbody>\n",
              "    <tr>\n",
              "      <th>0</th>\n",
              "      <td>1992-2010</td>\n",
              "      <td>133</td>\n",
              "      <td>230</td>\n",
              "      <td>44039</td>\n",
              "      <td>18180</td>\n",
              "      <td>800</td>\n",
              "      <td>1951-09-01 00:00:00</td>\n",
              "      <td>16/220</td>\n",
              "      <td>22.72</td>\n",
              "      <td>2.47</td>\n",
              "      <td>55.0</td>\n",
              "      <td>67</td>\n",
              "      <td>22</td>\n",
              "      <td>M Muralitharan</td>\n",
              "      <td>ICC/SL)</td>\n",
              "    </tr>\n",
              "    <tr>\n",
              "      <th>1</th>\n",
              "      <td>1992-2007</td>\n",
              "      <td>145</td>\n",
              "      <td>273</td>\n",
              "      <td>40705</td>\n",
              "      <td>17995</td>\n",
              "      <td>708</td>\n",
              "      <td>1971-08-01 00:00:00</td>\n",
              "      <td>12/128</td>\n",
              "      <td>25.41</td>\n",
              "      <td>2.65</td>\n",
              "      <td>57.4</td>\n",
              "      <td>37</td>\n",
              "      <td>10</td>\n",
              "      <td>SK Warne</td>\n",
              "      <td>AUS)</td>\n",
              "    </tr>\n",
              "    <tr>\n",
              "      <th>2</th>\n",
              "      <td>1990-2008</td>\n",
              "      <td>132</td>\n",
              "      <td>236</td>\n",
              "      <td>40850</td>\n",
              "      <td>18355</td>\n",
              "      <td>619</td>\n",
              "      <td>1974-10-01 00:00:00</td>\n",
              "      <td>14/149</td>\n",
              "      <td>29.65</td>\n",
              "      <td>2.69</td>\n",
              "      <td>65.9</td>\n",
              "      <td>35</td>\n",
              "      <td>8</td>\n",
              "      <td>A Kumble</td>\n",
              "      <td>INDIA)</td>\n",
              "    </tr>\n",
              "    <tr>\n",
              "      <th>3</th>\n",
              "      <td>2003-2021</td>\n",
              "      <td>162</td>\n",
              "      <td>301</td>\n",
              "      <td>34791</td>\n",
              "      <td>16457</td>\n",
              "      <td>617</td>\n",
              "      <td>1942-07-01 00:00:00</td>\n",
              "      <td>1971-11-01 00:00:00</td>\n",
              "      <td>26.67</td>\n",
              "      <td>2.83</td>\n",
              "      <td>56.3</td>\n",
              "      <td>30</td>\n",
              "      <td>3</td>\n",
              "      <td>JM Anderson</td>\n",
              "      <td>ENG)</td>\n",
              "    </tr>\n",
              "    <tr>\n",
              "      <th>4</th>\n",
              "      <td>1993-2007</td>\n",
              "      <td>124</td>\n",
              "      <td>243</td>\n",
              "      <td>29248</td>\n",
              "      <td>12186</td>\n",
              "      <td>563</td>\n",
              "      <td>2021-08-24 00:00:00</td>\n",
              "      <td>2021-10-27 00:00:00</td>\n",
              "      <td>21.64</td>\n",
              "      <td>2.49</td>\n",
              "      <td>51.9</td>\n",
              "      <td>29</td>\n",
              "      <td>3</td>\n",
              "      <td>GD McGrath</td>\n",
              "      <td>AUS)</td>\n",
              "    </tr>\n",
              "  </tbody>\n",
              "</table>\n",
              "</div>"
            ],
            "text/plain": [
              "        Span  Match  Innings  ...  Ten_wickets           Player  Country\n",
              "0  1992-2010    133      230  ...           22  M Muralitharan   ICC/SL)\n",
              "1  1992-2007    145      273  ...           10        SK Warne      AUS)\n",
              "2  1990-2008    132      236  ...            8        A Kumble    INDIA)\n",
              "3  2003-2021    162      301  ...            3     JM Anderson      ENG)\n",
              "4  1993-2007    124      243  ...            3      GD McGrath      AUS)\n",
              "\n",
              "[5 rows x 15 columns]"
            ]
          },
          "metadata": {
            "tags": []
          }
        }
      ]
    },
    {
      "cell_type": "markdown",
      "metadata": {
        "id": "3b3qr63fzaI5"
      },
      "source": [
        "#### Replace value of pandas column"
      ]
    },
    {
      "cell_type": "code",
      "metadata": {
        "colab": {
          "base_uri": "https://localhost:8080/",
          "height": 204
        },
        "id": "t-pKesSuzaI5",
        "outputId": "bb5e4f99-1586-4a18-834b-f66a13427a8e"
      },
      "source": [
        "df['Country'] = df['Country'].str.replace(\")\", \"\")\n",
        "\n",
        "display(df.head())"
      ],
      "execution_count": null,
      "outputs": [
        {
          "output_type": "display_data",
          "data": {
            "text/html": [
              "<div>\n",
              "<style scoped>\n",
              "    .dataframe tbody tr th:only-of-type {\n",
              "        vertical-align: middle;\n",
              "    }\n",
              "\n",
              "    .dataframe tbody tr th {\n",
              "        vertical-align: top;\n",
              "    }\n",
              "\n",
              "    .dataframe thead th {\n",
              "        text-align: right;\n",
              "    }\n",
              "</style>\n",
              "<table border=\"1\" class=\"dataframe\">\n",
              "  <thead>\n",
              "    <tr style=\"text-align: right;\">\n",
              "      <th></th>\n",
              "      <th>Span</th>\n",
              "      <th>Match</th>\n",
              "      <th>Innings</th>\n",
              "      <th>Balls</th>\n",
              "      <th>Runs</th>\n",
              "      <th>Wickets</th>\n",
              "      <th>Best_bowling_innings</th>\n",
              "      <th>Best_bowling_match</th>\n",
              "      <th>Average</th>\n",
              "      <th>Economy</th>\n",
              "      <th>StrikeRate</th>\n",
              "      <th>Five_wickets</th>\n",
              "      <th>Ten_wickets</th>\n",
              "      <th>Player</th>\n",
              "      <th>Country</th>\n",
              "    </tr>\n",
              "  </thead>\n",
              "  <tbody>\n",
              "    <tr>\n",
              "      <th>0</th>\n",
              "      <td>1992-2010</td>\n",
              "      <td>133</td>\n",
              "      <td>230</td>\n",
              "      <td>44039</td>\n",
              "      <td>18180</td>\n",
              "      <td>800</td>\n",
              "      <td>1951-09-01 00:00:00</td>\n",
              "      <td>16/220</td>\n",
              "      <td>22.72</td>\n",
              "      <td>2.47</td>\n",
              "      <td>55.0</td>\n",
              "      <td>67</td>\n",
              "      <td>22</td>\n",
              "      <td>M Muralitharan</td>\n",
              "      <td>ICC/SL</td>\n",
              "    </tr>\n",
              "    <tr>\n",
              "      <th>1</th>\n",
              "      <td>1992-2007</td>\n",
              "      <td>145</td>\n",
              "      <td>273</td>\n",
              "      <td>40705</td>\n",
              "      <td>17995</td>\n",
              "      <td>708</td>\n",
              "      <td>1971-08-01 00:00:00</td>\n",
              "      <td>12/128</td>\n",
              "      <td>25.41</td>\n",
              "      <td>2.65</td>\n",
              "      <td>57.4</td>\n",
              "      <td>37</td>\n",
              "      <td>10</td>\n",
              "      <td>SK Warne</td>\n",
              "      <td>AUS</td>\n",
              "    </tr>\n",
              "    <tr>\n",
              "      <th>2</th>\n",
              "      <td>1990-2008</td>\n",
              "      <td>132</td>\n",
              "      <td>236</td>\n",
              "      <td>40850</td>\n",
              "      <td>18355</td>\n",
              "      <td>619</td>\n",
              "      <td>1974-10-01 00:00:00</td>\n",
              "      <td>14/149</td>\n",
              "      <td>29.65</td>\n",
              "      <td>2.69</td>\n",
              "      <td>65.9</td>\n",
              "      <td>35</td>\n",
              "      <td>8</td>\n",
              "      <td>A Kumble</td>\n",
              "      <td>INDIA</td>\n",
              "    </tr>\n",
              "    <tr>\n",
              "      <th>3</th>\n",
              "      <td>2003-2021</td>\n",
              "      <td>162</td>\n",
              "      <td>301</td>\n",
              "      <td>34791</td>\n",
              "      <td>16457</td>\n",
              "      <td>617</td>\n",
              "      <td>1942-07-01 00:00:00</td>\n",
              "      <td>1971-11-01 00:00:00</td>\n",
              "      <td>26.67</td>\n",
              "      <td>2.83</td>\n",
              "      <td>56.3</td>\n",
              "      <td>30</td>\n",
              "      <td>3</td>\n",
              "      <td>JM Anderson</td>\n",
              "      <td>ENG</td>\n",
              "    </tr>\n",
              "    <tr>\n",
              "      <th>4</th>\n",
              "      <td>1993-2007</td>\n",
              "      <td>124</td>\n",
              "      <td>243</td>\n",
              "      <td>29248</td>\n",
              "      <td>12186</td>\n",
              "      <td>563</td>\n",
              "      <td>2021-08-24 00:00:00</td>\n",
              "      <td>2021-10-27 00:00:00</td>\n",
              "      <td>21.64</td>\n",
              "      <td>2.49</td>\n",
              "      <td>51.9</td>\n",
              "      <td>29</td>\n",
              "      <td>3</td>\n",
              "      <td>GD McGrath</td>\n",
              "      <td>AUS</td>\n",
              "    </tr>\n",
              "  </tbody>\n",
              "</table>\n",
              "</div>"
            ],
            "text/plain": [
              "        Span  Match  Innings  ...  Ten_wickets           Player  Country\n",
              "0  1992-2010    133      230  ...           22  M Muralitharan    ICC/SL\n",
              "1  1992-2007    145      273  ...           10        SK Warne       AUS\n",
              "2  1990-2008    132      236  ...            8        A Kumble     INDIA\n",
              "3  2003-2021    162      301  ...            3     JM Anderson       ENG\n",
              "4  1993-2007    124      243  ...            3      GD McGrath       AUS\n",
              "\n",
              "[5 rows x 15 columns]"
            ]
          },
          "metadata": {
            "tags": []
          }
        }
      ]
    },
    {
      "cell_type": "markdown",
      "metadata": {
        "id": "3tmGOsjzhq6j"
      },
      "source": [
        "#### Reordering Columns"
      ]
    },
    {
      "cell_type": "code",
      "metadata": {
        "id": "LcZ0CVj8zaI5"
      },
      "source": [
        "ord_list = ['Player', 'Country', 'Span', 'Match', 'Innings', 'Balls', 'Runs', 'Wickets','Best_bowling_innings',\n",
        "                    'Best_bowling_match', 'Average', 'Economy', 'StrikeRate', 'Five_wickets', 'Ten_wickets']"
      ],
      "execution_count": null,
      "outputs": []
    },
    {
      "cell_type": "code",
      "metadata": {
        "colab": {
          "base_uri": "https://localhost:8080/",
          "height": 204
        },
        "id": "Rw62DeAYzaI5",
        "outputId": "1511a629-2320-4b2d-8a38-0821b7720add"
      },
      "source": [
        "df = df[ord_list]\n",
        "\n",
        "display(df.head())"
      ],
      "execution_count": null,
      "outputs": [
        {
          "output_type": "display_data",
          "data": {
            "text/html": [
              "<div>\n",
              "<style scoped>\n",
              "    .dataframe tbody tr th:only-of-type {\n",
              "        vertical-align: middle;\n",
              "    }\n",
              "\n",
              "    .dataframe tbody tr th {\n",
              "        vertical-align: top;\n",
              "    }\n",
              "\n",
              "    .dataframe thead th {\n",
              "        text-align: right;\n",
              "    }\n",
              "</style>\n",
              "<table border=\"1\" class=\"dataframe\">\n",
              "  <thead>\n",
              "    <tr style=\"text-align: right;\">\n",
              "      <th></th>\n",
              "      <th>Player</th>\n",
              "      <th>Country</th>\n",
              "      <th>Span</th>\n",
              "      <th>Match</th>\n",
              "      <th>Innings</th>\n",
              "      <th>Balls</th>\n",
              "      <th>Runs</th>\n",
              "      <th>Wickets</th>\n",
              "      <th>Best_bowling_innings</th>\n",
              "      <th>Best_bowling_match</th>\n",
              "      <th>Average</th>\n",
              "      <th>Economy</th>\n",
              "      <th>StrikeRate</th>\n",
              "      <th>Five_wickets</th>\n",
              "      <th>Ten_wickets</th>\n",
              "    </tr>\n",
              "  </thead>\n",
              "  <tbody>\n",
              "    <tr>\n",
              "      <th>0</th>\n",
              "      <td>M Muralitharan</td>\n",
              "      <td>ICC/SL</td>\n",
              "      <td>1992-2010</td>\n",
              "      <td>133</td>\n",
              "      <td>230</td>\n",
              "      <td>44039</td>\n",
              "      <td>18180</td>\n",
              "      <td>800</td>\n",
              "      <td>1951-09-01 00:00:00</td>\n",
              "      <td>16/220</td>\n",
              "      <td>22.72</td>\n",
              "      <td>2.47</td>\n",
              "      <td>55.0</td>\n",
              "      <td>67</td>\n",
              "      <td>22</td>\n",
              "    </tr>\n",
              "    <tr>\n",
              "      <th>1</th>\n",
              "      <td>SK Warne</td>\n",
              "      <td>AUS</td>\n",
              "      <td>1992-2007</td>\n",
              "      <td>145</td>\n",
              "      <td>273</td>\n",
              "      <td>40705</td>\n",
              "      <td>17995</td>\n",
              "      <td>708</td>\n",
              "      <td>1971-08-01 00:00:00</td>\n",
              "      <td>12/128</td>\n",
              "      <td>25.41</td>\n",
              "      <td>2.65</td>\n",
              "      <td>57.4</td>\n",
              "      <td>37</td>\n",
              "      <td>10</td>\n",
              "    </tr>\n",
              "    <tr>\n",
              "      <th>2</th>\n",
              "      <td>A Kumble</td>\n",
              "      <td>INDIA</td>\n",
              "      <td>1990-2008</td>\n",
              "      <td>132</td>\n",
              "      <td>236</td>\n",
              "      <td>40850</td>\n",
              "      <td>18355</td>\n",
              "      <td>619</td>\n",
              "      <td>1974-10-01 00:00:00</td>\n",
              "      <td>14/149</td>\n",
              "      <td>29.65</td>\n",
              "      <td>2.69</td>\n",
              "      <td>65.9</td>\n",
              "      <td>35</td>\n",
              "      <td>8</td>\n",
              "    </tr>\n",
              "    <tr>\n",
              "      <th>3</th>\n",
              "      <td>JM Anderson</td>\n",
              "      <td>ENG</td>\n",
              "      <td>2003-2021</td>\n",
              "      <td>162</td>\n",
              "      <td>301</td>\n",
              "      <td>34791</td>\n",
              "      <td>16457</td>\n",
              "      <td>617</td>\n",
              "      <td>1942-07-01 00:00:00</td>\n",
              "      <td>1971-11-01 00:00:00</td>\n",
              "      <td>26.67</td>\n",
              "      <td>2.83</td>\n",
              "      <td>56.3</td>\n",
              "      <td>30</td>\n",
              "      <td>3</td>\n",
              "    </tr>\n",
              "    <tr>\n",
              "      <th>4</th>\n",
              "      <td>GD McGrath</td>\n",
              "      <td>AUS</td>\n",
              "      <td>1993-2007</td>\n",
              "      <td>124</td>\n",
              "      <td>243</td>\n",
              "      <td>29248</td>\n",
              "      <td>12186</td>\n",
              "      <td>563</td>\n",
              "      <td>2021-08-24 00:00:00</td>\n",
              "      <td>2021-10-27 00:00:00</td>\n",
              "      <td>21.64</td>\n",
              "      <td>2.49</td>\n",
              "      <td>51.9</td>\n",
              "      <td>29</td>\n",
              "      <td>3</td>\n",
              "    </tr>\n",
              "  </tbody>\n",
              "</table>\n",
              "</div>"
            ],
            "text/plain": [
              "            Player Country       Span  ...  StrikeRate  Five_wickets  Ten_wickets\n",
              "0  M Muralitharan   ICC/SL  1992-2010  ...        55.0            67           22\n",
              "1        SK Warne      AUS  1992-2007  ...        57.4            37           10\n",
              "2        A Kumble    INDIA  1990-2008  ...        65.9            35            8\n",
              "3     JM Anderson      ENG  2003-2021  ...        56.3            30            3\n",
              "4      GD McGrath      AUS  1993-2007  ...        51.9            29            3\n",
              "\n",
              "[5 rows x 15 columns]"
            ]
          },
          "metadata": {
            "tags": []
          }
        }
      ]
    }
  ]
}